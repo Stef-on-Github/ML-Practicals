{
 "cells": [
  {
   "cell_type": "code",
   "execution_count": 1,
   "id": "870f617b-89fb-4e5a-9d69-285affe03a30",
   "metadata": {},
   "outputs": [],
   "source": [
    "#find mode"
   ]
  },
  {
   "cell_type": "code",
   "execution_count": 91,
   "id": "2385bfaa-be5d-4aae-a17c-efac18562c88",
   "metadata": {},
   "outputs": [],
   "source": [
    "ls= [5,8,9,6,7,8,4,8,5]"
   ]
  },
  {
   "cell_type": "code",
   "execution_count": 93,
   "id": "d4c020a2-3525-4c56-ae98-8ce20754eaab",
   "metadata": {},
   "outputs": [
    {
     "name": "stdout",
     "output_type": "stream",
     "text": [
      "{5: 2, 8: 3, 9: 1, 6: 1, 7: 1, 4: 1}\n"
     ]
    }
   ],
   "source": [
    "dic = {}\n",
    "for i in ls:\n",
    "    if i in dic.keys():\n",
    "        dic[i] = dic[i] + 1\n",
    "    else:\n",
    "        dic[i] = 1\n",
    "\n",
    "print(dic)\n",
    "    "
   ]
  },
  {
   "cell_type": "code",
   "execution_count": 50,
   "id": "adb1cdef-1fec-49ea-8f5f-017f22a29038",
   "metadata": {},
   "outputs": [],
   "source": [
    "max = 0\n",
    "for j in dic.values():\n",
    "    if j>max:\n",
    "        max = j"
   ]
  },
  {
   "cell_type": "code",
   "execution_count": 52,
   "id": "fe903bb9-c511-42d2-9914-e9f82a0fd0aa",
   "metadata": {},
   "outputs": [
    {
     "name": "stdout",
     "output_type": "stream",
     "text": [
      "8\n"
     ]
    }
   ],
   "source": [
    "for k in dic:\n",
    "    if dic[k] == max:\n",
    "        print(k)"
   ]
  },
  {
   "cell_type": "code",
   "execution_count": 44,
   "id": "564826e7-1aa8-4fc4-89cf-effa96c81452",
   "metadata": {},
   "outputs": [
    {
     "data": {
      "text/plain": [
       "dict_keys([5, 8, 9, 6, 7, 4])"
      ]
     },
     "execution_count": 44,
     "metadata": {},
     "output_type": "execute_result"
    }
   ],
   "source": [
    "dic.keys()"
   ]
  },
  {
   "cell_type": "code",
   "execution_count": null,
   "id": "e6d2a37d-6ecf-45ab-89f2-06e7438c3ac1",
   "metadata": {},
   "outputs": [],
   "source": []
  },
  {
   "cell_type": "code",
   "execution_count": 55,
   "id": "5b0f5299-0ce4-4bd2-859d-0175d62136b8",
   "metadata": {},
   "outputs": [],
   "source": [
    "#find median"
   ]
  },
  {
   "cell_type": "code",
   "execution_count": 97,
   "id": "0040668a-2b45-4909-8a7b-19fa584cf070",
   "metadata": {},
   "outputs": [],
   "source": [
    "ls.sort()"
   ]
  },
  {
   "cell_type": "code",
   "execution_count": 99,
   "id": "71b814bd-4de9-4364-afdb-043b776a53a0",
   "metadata": {},
   "outputs": [
    {
     "data": {
      "text/plain": [
       "[4, 5, 5, 6, 7, 8, 8, 8, 9]"
      ]
     },
     "execution_count": 99,
     "metadata": {},
     "output_type": "execute_result"
    }
   ],
   "source": [
    "ls"
   ]
  },
  {
   "cell_type": "code",
   "execution_count": 103,
   "id": "7ab454ad-4aee-4e6e-befa-e6027774f9eb",
   "metadata": {},
   "outputs": [
    {
     "name": "stdout",
     "output_type": "stream",
     "text": [
      "9\n"
     ]
    }
   ],
   "source": [
    "n = len(ls)\n",
    "print(n)"
   ]
  },
  {
   "cell_type": "code",
   "execution_count": 113,
   "id": "81ad05dd-acff-40ed-9fa8-ae370232bbfa",
   "metadata": {},
   "outputs": [
    {
     "name": "stdout",
     "output_type": "stream",
     "text": [
      "4\n",
      "5\n"
     ]
    }
   ],
   "source": [
    "n1 = n/2\n",
    "n2 = (n+1)/2\n",
    "n1 = int(n1)\n",
    "n2 = int(n2)\n",
    "print(n1)\n",
    "print(n2)"
   ]
  },
  {
   "cell_type": "code",
   "execution_count": 119,
   "id": "d068a3c0-37f2-4225-baf6-4e7f7271bddf",
   "metadata": {},
   "outputs": [],
   "source": [
    "median = (lis[n1+n2)//2"
   ]
  },
  {
   "cell_type": "code",
   "execution_count": 121,
   "id": "e4b3de44-6389-47cc-9295-b14914a5f31d",
   "metadata": {},
   "outputs": [
    {
     "name": "stdout",
     "output_type": "stream",
     "text": [
      "4\n"
     ]
    }
   ],
   "source": [
    "print(median)"
   ]
  },
  {
   "cell_type": "code",
   "execution_count": null,
   "id": "94216900-9b84-419b-aceb-e0dc1388c26e",
   "metadata": {},
   "outputs": [],
   "source": []
  }
 ],
 "metadata": {
  "kernelspec": {
   "display_name": "Python 3 (ipykernel)",
   "language": "python",
   "name": "python3"
  },
  "language_info": {
   "codemirror_mode": {
    "name": "ipython",
    "version": 3
   },
   "file_extension": ".py",
   "mimetype": "text/x-python",
   "name": "python",
   "nbconvert_exporter": "python",
   "pygments_lexer": "ipython3",
   "version": "3.12.4"
  }
 },
 "nbformat": 4,
 "nbformat_minor": 5
}
