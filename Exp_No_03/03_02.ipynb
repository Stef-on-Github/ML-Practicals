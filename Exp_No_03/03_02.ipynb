{
 "cells": [
  {
   "cell_type": "code",
   "execution_count": 1,
   "id": "000c95f8",
   "metadata": {},
   "outputs": [
    {
     "name": "stdout",
     "output_type": "stream",
     "text": [
      "X_train:\n",
      "   Feature1  Feature2  Feature3\n",
      "9        28        29        30\n",
      "1         4         5         6\n",
      "6        19        20        21\n",
      "7        22        23        24\n",
      "3        10        11        12\n",
      "0         1         2         3\n",
      "5        16        17        18\n",
      "\n",
      "X_test:\n",
      "   Feature1  Feature2  Feature3\n",
      "2         7         8         9\n",
      "8        25        26        27\n",
      "4        13        14        15\n",
      "\n",
      "y_train:\n",
      "9    10\n",
      "1     2\n",
      "6     7\n",
      "7     8\n",
      "3     4\n",
      "0     1\n",
      "5     6\n",
      "Name: Target, dtype: int64\n",
      "\n",
      "y_test:\n",
      "2    3\n",
      "8    9\n",
      "4    5\n",
      "Name: Target, dtype: int64\n"
     ]
    }
   ],
   "source": [
    "import numpy as np\n",
    "import pandas as pd\n",
    "from sklearn.model_selection import train_test_split\n",
    "\n",
    "# Define arrays for X and y\n",
    "X = np.array([\n",
    "    [1, 2, 3],\n",
    "    [4, 5, 6],\n",
    "    [7, 8, 9],\n",
    "    [10, 11, 12],\n",
    "    [13, 14, 15],\n",
    "    [16, 17, 18],\n",
    "    [19, 20, 21],\n",
    "    [22, 23, 24],\n",
    "    [25, 26, 27],\n",
    "    [28, 29, 30]\n",
    "])\n",
    "y = np.array([1, 2, 3, 4, 5, 6, 7, 8, 9, 10])\n",
    "\n",
    "# Converting to pandas DataFrame for consistency\n",
    "df = pd.DataFrame(X, columns=['Feature1', 'Feature2', 'Feature3'])\n",
    "df['Target'] = y\n",
    "\n",
    "# Separating features and target variable\n",
    "X = df.iloc[:, :-1]  # Features\n",
    "y = df.iloc[:, -1]   # Target variable\n",
    "\n",
    "# Spliting the dataset into training and testing sets\n",
    "X_train, X_test, y_train, y_test = train_test_split(X, y, test_size=0.3, random_state=0)\n",
    "\n",
    "# Print the training and testing sets\n",
    "print(\"X_train:\")\n",
    "print(X_train)\n",
    "print(\"\\nX_test:\")\n",
    "print(X_test)\n",
    "print(\"\\ny_train:\")\n",
    "print(y_train)\n",
    "print(\"\\ny_test:\")\n",
    "print(y_test)\n"
   ]
  },
  {
   "cell_type": "code",
   "execution_count": null,
   "id": "ba4c3154",
   "metadata": {},
   "outputs": [],
   "source": []
  }
 ],
 "metadata": {
  "kernelspec": {
   "display_name": "Python 3 (ipykernel)",
   "language": "python",
   "name": "python3"
  },
  "language_info": {
   "codemirror_mode": {
    "name": "ipython",
    "version": 3
   },
   "file_extension": ".py",
   "mimetype": "text/x-python",
   "name": "python",
   "nbconvert_exporter": "python",
   "pygments_lexer": "ipython3",
   "version": "3.11.2"
  }
 },
 "nbformat": 4,
 "nbformat_minor": 5
}
